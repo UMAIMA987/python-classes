{
  "nbformat": 4,
  "nbformat_minor": 0,
  "metadata": {
    "colab": {
      "provenance": []
    },
    "kernelspec": {
      "name": "python3",
      "display_name": "Python 3"
    },
    "language_info": {
      "name": "python"
    }
  },
  "cells": [
    {
      "cell_type": "markdown",
      "source": [
        "# **List Comprehension Exercises***"
      ],
      "metadata": {
        "id": "PaSCvWfw46xq"
      }
    },
    {
      "cell_type": "markdown",
      "source": [
        "Given a list of strings, create a new list that contains only the strings that are longer than 5 characters.\n",
        "\n",
        "Given a list of numbers, create a new list that contains the squares of all the numbers in the original list.\n",
        "\n",
        "Given a list of names, create a new list that contains only the first letters of each name.\n",
        "\n",
        "Given a list of numbers, create a new list that contains only the numbers that are divisible by both 3 and 5.\n",
        "\n",
        "Given a list of temperatures in Celsius, create a new list that contains the equivalent temperatures in Fahrenheit. (Hint: the formula to convert from Celsius to Fahrenheit is F = (C * 9/5) + 32"
      ],
      "metadata": {
        "id": "473xhwTMGkY0"
      }
    },
    {
      "cell_type": "code",
      "source": [
        "w=[2,5,9,6]\n",
        "i=7\n",
        "sum4=[i+p for p in w if p%2==0]\n",
        "print(i ,  w)\n",
        "sum4"
      ],
      "metadata": {
        "colab": {
          "base_uri": "https://localhost:8080/"
        },
        "id": "_wLpGO-b8H-g",
        "outputId": "3d1e0d1b-64ca-4e61-b353-cb2220cdfb81"
      },
      "execution_count": 2,
      "outputs": [
        {
          "output_type": "stream",
          "name": "stdout",
          "text": [
            "7 [2, 5, 9, 6]\n"
          ]
        },
        {
          "output_type": "execute_result",
          "data": {
            "text/plain": [
              "[9, 13]"
            ]
          },
          "metadata": {},
          "execution_count": 2
        }
      ]
    },
    {
      "cell_type": "markdown",
      "source": [
        "# **Given a list of strings, create a new list that contains only the strings that are longer than 5 characters.**"
      ],
      "metadata": {
        "id": "-1n_76wI8qEK"
      }
    },
    {
      "cell_type": "code",
      "source": [
        "strings=[\"banana\", \"apple\", \"guava\", \"watermelon\",\"strawberry\",\"pomegranate\"]\n",
        "\n",
        "s = [ strings[i] for i in  range(len(strings)) if len(strings[i])>5 ]\n",
        "print(s)"
      ],
      "metadata": {
        "colab": {
          "base_uri": "https://localhost:8080/"
        },
        "id": "w0ecpCF48Is3",
        "outputId": "c2a91083-37f2-492b-8272-ccb18f2cc061"
      },
      "execution_count": 3,
      "outputs": [
        {
          "output_type": "stream",
          "name": "stdout",
          "text": [
            "['banana', 'watermelon', 'strawberry', 'pomegranate']\n"
          ]
        }
      ]
    },
    {
      "cell_type": "markdown",
      "source": [
        "# Given a list of numbers, create a new list that contains the squares of all the numbers in the original list."
      ],
      "metadata": {
        "id": "R82tAvHg-0xd"
      }
    },
    {
      "cell_type": "code",
      "source": [
        "num=[1,2,3,4,5,6,7,8,9]\n",
        "\n",
        "sqr = [x**2 for x in num]\n",
        "\n",
        "print(sqr)\n"
      ],
      "metadata": {
        "colab": {
          "base_uri": "https://localhost:8080/"
        },
        "id": "wP8g5-Lg9TkO",
        "outputId": "cda653bd-d537-4156-a1b4-36211aa52933"
      },
      "execution_count": 4,
      "outputs": [
        {
          "output_type": "stream",
          "name": "stdout",
          "text": [
            "[1, 4, 9, 16, 25, 36, 49, 64, 81]\n"
          ]
        }
      ]
    },
    {
      "cell_type": "markdown",
      "source": [
        "# **Given a list of names, create a new list that contains only the first letters of each name.**"
      ],
      "metadata": {
        "id": "rms04UU2_wMz"
      }
    },
    {
      "cell_type": "code",
      "source": [
        "names =[\"Ali\",\"Kamran\" , \"Muneeze\" , \"Yusra\" , \"Humaira\" , \"Taha\" , \"Sara\"]\n",
        "\n",
        "fletter = [x[0] for x in names]\n",
        "\n",
        "print(fletter)"
      ],
      "metadata": {
        "colab": {
          "base_uri": "https://localhost:8080/"
        },
        "id": "tl-ge1ZG9eJk",
        "outputId": "abe1e693-fc51-4275-9672-4a673a839483"
      },
      "execution_count": 5,
      "outputs": [
        {
          "output_type": "stream",
          "name": "stdout",
          "text": [
            "['A', 'K', 'M', 'Y', 'H', 'T', 'S']\n"
          ]
        }
      ]
    },
    {
      "cell_type": "markdown",
      "source": [
        "# **Given a list of numbers, create a new list that contains only the numbers that are divisible by both 3 and 5.**"
      ],
      "metadata": {
        "id": "xbgZUn7qAju6"
      }
    },
    {
      "cell_type": "code",
      "source": [
        "number = [27,65,91,45,32,46,50,88,41]\n",
        "\n",
        "dvsbl = [x for x in number if (x % 3==0) or (x%5==0)]\n",
        "\n",
        "print(dvsbl)"
      ],
      "metadata": {
        "colab": {
          "base_uri": "https://localhost:8080/"
        },
        "id": "wioO2JWh_gA5",
        "outputId": "58cee0bb-81df-48f0-8636-c99c59f1b8c2"
      },
      "execution_count": 6,
      "outputs": [
        {
          "output_type": "stream",
          "name": "stdout",
          "text": [
            "[27, 65, 45, 50]\n"
          ]
        }
      ]
    },
    {
      "cell_type": "markdown",
      "source": [
        "# **Given a list of temperatures in Celsius, create a new list that contains the equivalent temperatures in Fahrenheit. (Hint: the formula to convert from Celsius to Fahrenheit is F = (C * 9/5) + 32**"
      ],
      "metadata": {
        "id": "8qCz-8PqB5zm"
      }
    },
    {
      "cell_type": "code",
      "source": [
        "celsius = [10,25,35,40,23,18,23]\n",
        "\n",
        "fahrenheit = [((x * (9/5)) +32 ) for x in celsius]\n",
        "\n",
        "print(fahrenheit)"
      ],
      "metadata": {
        "colab": {
          "base_uri": "https://localhost:8080/"
        },
        "id": "DG4QaAWDBrID",
        "outputId": "1ed15b5c-7b17-40bd-bb42-85368f7e04b9"
      },
      "execution_count": 7,
      "outputs": [
        {
          "output_type": "stream",
          "name": "stdout",
          "text": [
            "[50.0, 77.0, 95.0, 104.0, 73.4, 64.4, 73.4]\n"
          ]
        }
      ]
    },
    {
      "cell_type": "markdown",
      "source": [
        "\n",
        "## sum+k\n",
        "takes list and a int\n",
        "returns list\n",
        "hintL k will add up to each elemetn of list\n",
        "\n",
        "## fillna \n",
        "takes list \n",
        "returns list\n",
        "\n",
        "## duplicates\n",
        "takes list\n",
        "returns list\n",
        "\n",
        "\n",
        "## search\n",
        "takes list and int\n",
        "if True returns 1 else return -1\n",
        "\n",
        "## mode\n",
        "we will do it later\n",
        "\n"
      ],
      "metadata": {
        "id": "2CiPN8V1omGu"
      }
    },
    {
      "cell_type": "markdown",
      "source": [
        "## **Sum + K **"
      ],
      "metadata": {
        "id": "0Sz-Br-ZHVRz"
      }
    },
    {
      "cell_type": "code",
      "source": [
        "number = [27,65,91,45,32,46,50,88,41]\n",
        "k = 7\n",
        "\n",
        "sumk = [x+k for x in number]\n",
        "print(sumk)"
      ],
      "metadata": {
        "colab": {
          "base_uri": "https://localhost:8080/"
        },
        "id": "7PiRru4uHLLN",
        "outputId": "c489fe9d-8f4c-4681-d6a6-3efc643c98da"
      },
      "execution_count": 8,
      "outputs": [
        {
          "output_type": "stream",
          "name": "stdout",
          "text": [
            "[34, 72, 98, 52, 39, 53, 57, 95, 48]\n"
          ]
        }
      ]
    },
    {
      "cell_type": "markdown",
      "source": [
        "# **Fill NA**"
      ],
      "metadata": {
        "id": "g5Sqw7SJIHOa"
      }
    },
    {
      "cell_type": "code",
      "source": [
        "number = [None,27,None,65,91,45,32,None,46,50,88,41,None]\n",
        "\n",
        "fill_na =[0 if x == None else x for x in number]\n",
        "print(fill_na)"
      ],
      "metadata": {
        "colab": {
          "base_uri": "https://localhost:8080/"
        },
        "id": "ghe7lrL5H_JW",
        "outputId": "b3bfcf5d-4530-46a8-f44b-801547eeffe2"
      },
      "execution_count": 9,
      "outputs": [
        {
          "output_type": "stream",
          "name": "stdout",
          "text": [
            "[0, 27, 0, 65, 91, 45, 32, 0, 46, 50, 88, 41, 0]\n"
          ]
        }
      ]
    },
    {
      "cell_type": "markdown",
      "source": [
        "# **Duplicates** \n",
        "ask to sir it is correct or not"
      ],
      "metadata": {
        "id": "gaHQELYtK108"
      }
    },
    {
      "cell_type": "code",
      "source": [
        "duplicates = [2,5,4,3,2,5,4,3,6,9,9,8,7,8,7,8,9,1,3,1,0,2,0,1,4,5,6,7,9,8,8,3,4,5,1,0,6,9,7]\n",
        "\n",
        "remove = [ set(duplicates) ]\n",
        "print(list(remove))"
      ],
      "metadata": {
        "colab": {
          "base_uri": "https://localhost:8080/"
        },
        "id": "mzeWroFnK5pT",
        "outputId": "18646db9-94de-462c-dd7a-0320cb450876"
      },
      "execution_count": 16,
      "outputs": [
        {
          "output_type": "stream",
          "name": "stdout",
          "text": [
            "[{0, 1, 2, 3, 4, 5, 6, 7, 8, 9}]\n"
          ]
        }
      ]
    },
    {
      "cell_type": "markdown",
      "source": [
        "# **Search**"
      ],
      "metadata": {
        "id": "WhCPld8KAMf3"
      }
    },
    {
      "cell_type": "code",
      "source": [
        "list5 = [1,5,6,9,8,7,5,6,3,2,1,4,8,9,5,4]\n",
        "find =5\n",
        "\n",
        "search = [(\"Yess\" if list5[x] == find else list5[x]) for x in list5  ]\n",
        "print(search)"
      ],
      "metadata": {
        "id": "uPhpVIIwLV0_",
        "colab": {
          "base_uri": "https://localhost:8080/"
        },
        "outputId": "2eb06a57-2881-4f54-8570-fcd6846765b5"
      },
      "execution_count": 19,
      "outputs": [
        {
          "output_type": "stream",
          "name": "stdout",
          "text": [
            "['Yess', 7, 'Yess', 2, 3, 6, 7, 'Yess', 9, 6, 'Yess', 8, 3, 2, 7, 8]\n"
          ]
        }
      ]
    },
    {
      "cell_type": "code",
      "source": [],
      "metadata": {
        "id": "Q5wxaJqrB9Pj"
      },
      "execution_count": null,
      "outputs": []
    }
  ]
}