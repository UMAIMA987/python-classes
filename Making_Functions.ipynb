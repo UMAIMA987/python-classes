{
  "nbformat": 4,
  "nbformat_minor": 0,
  "metadata": {
    "colab": {
      "provenance": []
    },
    "kernelspec": {
      "name": "python3",
      "display_name": "Python 3"
    },
    "language_info": {
      "name": "python"
    }
  },
  "cells": [
    {
      "cell_type": "markdown",
      "source": [
        "# **Assignment # 1**\n",
        "Make functions of following."
      ],
      "metadata": {
        "id": "7dryIFnVxrla"
      }
    },
    {
      "cell_type": "markdown",
      "source": [
        "## Sum \n",
        "takes array returns int\n",
        "\n",
        "\n",
        "## mean \n",
        "takes array returns int\n",
        "\n",
        "## median\n",
        "hint L first sort the list \n",
        "takes array returns int\n",
        "\n",
        "## swaap \n",
        "takes 2 ints and the same\n",
        "\n",
        "## sum+k\n",
        "takes list and a int\n",
        "returns list\n",
        "hintL k will add up to each elemetn of list\n",
        "\n",
        "## add\n",
        "takes 2 or miltiples ints\n",
        "returns int\n",
        "\n",
        "## pow\n",
        "takes 2 int\n",
        "returns 1\n",
        "\n",
        "## fact\n",
        "takes int returns int\n",
        "\n",
        "\n",
        "## cumsum \n",
        "takes int returns int\n",
        "\n",
        "\n",
        "## fillna \n",
        "takes list \n",
        "returns list\n",
        "\n",
        "## duplicates\n",
        "takes list\n",
        "returns list\n",
        "\n",
        "## std \n",
        "takes array returns int\n",
        "\n",
        "\n",
        "## variance \n",
        "takes array returns int\n",
        "\n",
        "## search\n",
        "takes list and int\n",
        "if True returns 1 else return -1\n",
        "\n",
        "## mode"
      ],
      "metadata": {
        "id": "2CiPN8V1omGu"
      }
    },
    {
      "cell_type": "markdown",
      "source": [
        "## **SUM FUNCTION**"
      ],
      "metadata": {
        "id": "Jkjo4bzWqoKh"
      }
    },
    {
      "cell_type": "code",
      "execution_count": null,
      "metadata": {
        "colab": {
          "base_uri": "https://localhost:8080/"
        },
        "id": "VZOzgkTDjc43",
        "outputId": "8d050d71-6280-4efe-ecfd-107d41fb59a3"
      },
      "outputs": [
        {
          "output_type": "execute_result",
          "data": {
            "text/plain": [
              "452"
            ]
          },
          "metadata": {},
          "execution_count": 19
        }
      ],
      "source": [
        "def cal_sum(list):\n",
        "  x=0\n",
        "  for i in range(len(list)):\n",
        "    x=x+int(list[i])\n",
        "  return int(x) \n",
        "\n",
        "list=[2,42,58,65,48,56,58,45,2,0,6,8,5,2,55]\n",
        "sum=cal_sum(list)  \n",
        "sum"
      ]
    },
    {
      "cell_type": "markdown",
      "source": [
        "# **MEAN FUNCTION**"
      ],
      "metadata": {
        "id": "_jLycnz1tOWj"
      }
    },
    {
      "cell_type": "code",
      "source": [
        "def calculate_mean(numbers):\n",
        "    n=len(numbers)\n",
        "    mean = cal_sum(numbers) / n\n",
        "    return mean\n",
        "\n",
        "numbers=[21,42,58,65,48,56,58,45,56,86,57,25,55]\n",
        "avg=calculate_mean(numbers)\n",
        "\n",
        "print(\"Mean of numbers = {:.2f}\".format(avg))\n",
        "   "
      ],
      "metadata": {
        "colab": {
          "base_uri": "https://localhost:8080/"
        },
        "id": "unSWNKpWyNgz",
        "outputId": "73223428-e471-40a2-b150-ae47f31f27c5"
      },
      "execution_count": null,
      "outputs": [
        {
          "output_type": "stream",
          "name": "stdout",
          "text": [
            "Mean of numbers = 51.69\n"
          ]
        }
      ]
    },
    {
      "cell_type": "markdown",
      "source": [
        "# **Median Function**"
      ],
      "metadata": {
        "id": "OWmckp3S99c-"
      }
    },
    {
      "cell_type": "code",
      "source": [
        "\n",
        "def median(numbers):\n",
        "  numbers.sort()\n",
        "  if len(numbers) % 2 == 0:\n",
        "    mid = len(numbers)//2\n",
        "    print (\"mid \",mid)\n",
        "    median = (numbers[mid-1] + numbers[mid]) / 2\n",
        "  else:\n",
        "    median = numbers[len(numbers)//2]\n",
        "  return median\n",
        "\n",
        "\n",
        "\n",
        "numbers=[2,5,4,7,8,6,3,25,8,17]  \n",
        "median= median(numbers)\n",
        "median"
      ],
      "metadata": {
        "colab": {
          "base_uri": "https://localhost:8080/"
        },
        "id": "gANHWFYNKtQX",
        "outputId": "bd357724-0d45-4f09-e799-e5737f496614"
      },
      "execution_count": 3,
      "outputs": [
        {
          "output_type": "stream",
          "name": "stdout",
          "text": [
            "mid  5\n"
          ]
        },
        {
          "output_type": "execute_result",
          "data": {
            "text/plain": [
              "6.5"
            ]
          },
          "metadata": {},
          "execution_count": 3
        }
      ]
    },
    {
      "cell_type": "markdown",
      "source": [
        "## ***Swap Function***"
      ],
      "metadata": {
        "id": "g2wJi8pKbnlm"
      }
    },
    {
      "cell_type": "code",
      "source": [
        "def swap(a,b):\n",
        "  c=a\n",
        "  a=b\n",
        "  b=c\n",
        "  return int(a),int(b)\n",
        "\n",
        "\n",
        "a=int(input(\"Enter your first number = \"))\n",
        "b=int(input(\"Enter your second number = \"))\n",
        "s=swap(a,b)\n",
        "print(s)\n",
        "print(type(s))"
      ],
      "metadata": {
        "colab": {
          "base_uri": "https://localhost:8080/"
        },
        "id": "90AQIJgybH-8",
        "outputId": "e8ea8df9-0c61-439f-957f-761f47006e0b"
      },
      "execution_count": null,
      "outputs": [
        {
          "output_type": "stream",
          "name": "stdout",
          "text": [
            "Enter your first number = 56\n",
            "Enter your second number = 65\n",
            "(65, 56)\n",
            "<class 'tuple'>\n"
          ]
        }
      ]
    },
    {
      "cell_type": "markdown",
      "source": [
        "# **Sum+K function***"
      ],
      "metadata": {
        "id": "XSbcaXoMZZiG"
      }
    },
    {
      "cell_type": "code",
      "source": [
        "def sumk(list , k):\n",
        "  for i in range(len(list)):\n",
        "    list[i] = list[i]+k\n",
        "  return list\n",
        "\n",
        "\n",
        "\n",
        "list=[1,2,3,4,5,6,7,8,9]\n",
        "k=10\n",
        "\n",
        "sum_k=sumk(list,k) \n",
        "print(sum_k) "
      ],
      "metadata": {
        "colab": {
          "base_uri": "https://localhost:8080/"
        },
        "id": "CBky3eEWZgmX",
        "outputId": "5aa2521e-25a4-4ffa-c94d-34fe338ff8de"
      },
      "execution_count": null,
      "outputs": [
        {
          "output_type": "stream",
          "name": "stdout",
          "text": [
            "[11, 12, 13, 14, 15, 16, 17, 18, 19]\n"
          ]
        }
      ]
    },
    {
      "cell_type": "markdown",
      "source": [
        "# **Add Function**"
      ],
      "metadata": {
        "id": "TwVEjzJweqBB"
      }
    },
    {
      "cell_type": "code",
      "source": [
        "def add (a,b):              # when numbers are only 2\n",
        "    return a+b\n",
        "\n",
        "\n",
        "\n",
        "a=int(input(\"Enter your First Number : \"))\n",
        "b=int(input(\"Enter your Second Number : \"))\n",
        "add(a,b)\n"
      ],
      "metadata": {
        "colab": {
          "base_uri": "https://localhost:8080/"
        },
        "id": "I4uq9cdsbX0E",
        "outputId": "7b4a4bca-276f-4379-de1f-7eea97d02aed"
      },
      "execution_count": null,
      "outputs": [
        {
          "name": "stdout",
          "output_type": "stream",
          "text": [
            "Enter your First Number : 55\n",
            "Enter your Second Number : 49\n"
          ]
        },
        {
          "output_type": "execute_result",
          "data": {
            "text/plain": [
              "104"
            ]
          },
          "metadata": {},
          "execution_count": 12
        }
      ]
    },
    {
      "cell_type": "code",
      "source": [
        "def add(*args):      # when you have to add more than 2 numbers\n",
        "  args = list(args)\n",
        "  sum = 0\n",
        "  for x in args:\n",
        "    sum +=x\n",
        "\n",
        "  return sum\n",
        "add(6,5,7,8)"
      ],
      "metadata": {
        "colab": {
          "base_uri": "https://localhost:8080/"
        },
        "id": "k71NoaHEGzVh",
        "outputId": "541743ae-b03d-4a33-b818-7336749d238e"
      },
      "execution_count": null,
      "outputs": [
        {
          "output_type": "execute_result",
          "data": {
            "text/plain": [
              "26"
            ]
          },
          "metadata": {},
          "execution_count": 7
        }
      ]
    },
    {
      "cell_type": "markdown",
      "source": [
        "# **Power Function**"
      ],
      "metadata": {
        "id": "yTUwR6DcfrO_"
      }
    },
    {
      "cell_type": "code",
      "source": [
        "def pow(c,d):\n",
        "  return c**d\n",
        "\n",
        "c=int(input(\"Enter your First Number : \"))\n",
        "d=int(input(\"Enter your Second Number : \"))\n",
        "\n",
        "power=pow(c,d)\n",
        "print(power)  "
      ],
      "metadata": {
        "colab": {
          "base_uri": "https://localhost:8080/"
        },
        "id": "4iy8e6CGfNLf",
        "outputId": "6d5cd901-fd90-4d91-c4d6-8a954064fe1f"
      },
      "execution_count": null,
      "outputs": [
        {
          "output_type": "stream",
          "name": "stdout",
          "text": [
            "Enter your First Number : 5\n",
            "Enter your Second Number : 3\n",
            "125\n"
          ]
        }
      ]
    },
    {
      "cell_type": "markdown",
      "source": [
        "# **Factorial Function**"
      ],
      "metadata": {
        "id": "qPyV1V6ogTE9"
      }
    },
    {
      "cell_type": "code",
      "source": [
        "def factorial(e):\n",
        "  if e <=0:\n",
        "    print(\"Invalid Input\")\n",
        "  else:  \n",
        "      f=1 \n",
        "      for i in range(e,0,-1):\n",
        "          f = i * f\n",
        "      return f    \n",
        "\n",
        "a=int(input(\"Enter your number : \"))\n",
        "fact=factorial(a)\n",
        "print(fact)"
      ],
      "metadata": {
        "colab": {
          "base_uri": "https://localhost:8080/"
        },
        "id": "GAtx5nu_gG4N",
        "outputId": "f7ae037a-587e-45ba-f9bc-f15f238eb4e1"
      },
      "execution_count": null,
      "outputs": [
        {
          "output_type": "stream",
          "name": "stdout",
          "text": [
            "Enter your number : 4\n",
            "24\n"
          ]
        }
      ]
    },
    {
      "cell_type": "markdown",
      "source": [
        "# **Cum sum Function**"
      ],
      "metadata": {
        "id": "kUiDAcz7l1rr"
      }
    },
    {
      "cell_type": "code",
      "source": [
        "def cumsum(g):\n",
        "  if g <=0:\n",
        "    print(\"Invalid Input\")\n",
        "  else:  \n",
        "      f=0\n",
        "      for i in range(g,0,-1):\n",
        "          f = i + f\n",
        "      return f    \n",
        "\n",
        "a=int(input(\"Enter your number : \"))\n",
        "cum=cumsum(a)\n",
        "print(cum)"
      ],
      "metadata": {
        "colab": {
          "base_uri": "https://localhost:8080/"
        },
        "id": "vNMiS7U1iCSK",
        "outputId": "e3fb3b21-bd1e-416c-c122-b9779fefd826"
      },
      "execution_count": null,
      "outputs": [
        {
          "output_type": "stream",
          "name": "stdout",
          "text": [
            "Enter your number : 5\n",
            "15\n"
          ]
        }
      ]
    },
    {
      "cell_type": "markdown",
      "source": [
        "# **Fill NA Function**"
      ],
      "metadata": {
        "id": "SPmEtBGDCN8h"
      }
    },
    {
      "cell_type": "code",
      "source": [
        "def fillna(l):\n",
        "   for i in range(len(l)):\n",
        "     if l[i] == None:\n",
        "       l[i] = 0\n",
        "   return list(l)    \n",
        "\n",
        "\n",
        "l=[1,None,3,4,None,5,6,None] \n",
        "fill_na = fillna(l)\n",
        "print(fill_na) "
      ],
      "metadata": {
        "colab": {
          "base_uri": "https://localhost:8080/"
        },
        "id": "HFY-AN9KmI7B",
        "outputId": "fb79b6c5-35d9-4215-d4ab-fcedd3f24043"
      },
      "execution_count": null,
      "outputs": [
        {
          "output_type": "stream",
          "name": "stdout",
          "text": [
            "[1, 0, 3, 4, 0, 5, 6, 0]\n"
          ]
        }
      ]
    },
    {
      "cell_type": "markdown",
      "source": [
        "# **Remove Duplicates Function**"
      ],
      "metadata": {
        "id": "ijSOcKI9FKeK"
      }
    },
    {
      "cell_type": "code",
      "source": [
        "def duplicate(w):\n",
        "  return list(set(w))      # first it change w into set to remove duplicates and then again change into list\n",
        "\n",
        "\n",
        "l1= [1,1,2,2,3,3,4,4,5,5,6,6,7,7,8,8,9,9] \n",
        "dup= duplicate(l1)\n",
        "print(dup) "
      ],
      "metadata": {
        "colab": {
          "base_uri": "https://localhost:8080/"
        },
        "id": "FwdVZLQVC_Zf",
        "outputId": "09fa1c7b-38bd-44ef-964c-adbe7579a6b1"
      },
      "execution_count": null,
      "outputs": [
        {
          "output_type": "stream",
          "name": "stdout",
          "text": [
            "[1, 2, 3, 4, 5, 6, 7, 8, 9]\n"
          ]
        }
      ]
    },
    {
      "cell_type": "markdown",
      "source": [
        "# **Search Function**"
      ],
      "metadata": {
        "id": "nT_NoM1nHdfq"
      }
    },
    {
      "cell_type": "code",
      "source": [
        "#it take list and the number which you have to search from the list\n",
        "\n",
        "def search(list3,t):\n",
        "     return True if t in list3 else False\n",
        "\n",
        "list3=[5,8,9,7,6,2,3,4,1,0]\n",
        "t=79\n",
        "search(s,t)"
      ],
      "metadata": {
        "colab": {
          "base_uri": "https://localhost:8080/"
        },
        "id": "l-955j_fGDFj",
        "outputId": "4e0ffeae-6215-4397-d560-20bf30d73c3c"
      },
      "execution_count": null,
      "outputs": [
        {
          "output_type": "execute_result",
          "data": {
            "text/plain": [
              "False"
            ]
          },
          "metadata": {},
          "execution_count": 16
        }
      ]
    },
    {
      "cell_type": "markdown",
      "source": [
        "# **Mode function (in-complete)**"
      ],
      "metadata": {
        "id": "n-cg4vZ0MyoL"
      }
    },
    {
      "cell_type": "code",
      "source": [
        "def mode(list4):\n",
        "  pass\n",
        "  \n",
        "\n",
        "  \n",
        "\n",
        "\n",
        "\n",
        "list4=[4,5,8,9,4,7,8,9,4,7,3,2,1,4,9,4,3,6,4]  \n",
        "mode(list4)"
      ],
      "metadata": {
        "id": "L_hApg6CId0S"
      },
      "execution_count": 4,
      "outputs": []
    },
    {
      "cell_type": "markdown",
      "source": [
        "# **Standard deviation Function**"
      ],
      "metadata": {
        "id": "GBbPAdMoSBxw"
      }
    },
    {
      "cell_type": "code",
      "source": [
        "def standard_deviation(list5):\n",
        "    m = int(calculate_mean(list5))      # calculating mean of list\n",
        "    print(\"Mean of a list\" , m)\n",
        "    \n",
        "    list6=[]\n",
        "    for i in range(len(list5)):\n",
        "      std=list5[i] -m                 # calculating standard deviation\n",
        "      list6.append(std)               # add standard deviation into a new list\n",
        "      m2 = calculate_mean(list6)\n",
        "    print(\"Point at a distance : \" ,list6)  \n",
        "    return m2\n",
        "\n",
        "list5 = [25,49,22,40,53,15,77]\n",
        "std_list=standard_deviation(list5)\n",
        "print(\"Standard deviaton of a list is : \" ,round(std_list,2))\n"
      ],
      "metadata": {
        "colab": {
          "base_uri": "https://localhost:8080/"
        },
        "id": "fAKsc25LPkTQ",
        "outputId": "8379784c-be56-404b-edb5-df6ea3cac964"
      },
      "execution_count": null,
      "outputs": [
        {
          "output_type": "stream",
          "name": "stdout",
          "text": [
            "Mean of a list 40\n",
            "Point at a distance :  [-15, 9, -18, 0, 13, -25, 37]\n",
            "Standard deviaton of a list is :  0.14\n"
          ]
        }
      ]
    },
    {
      "cell_type": "markdown",
      "source": [
        "##  **Variance Function**"
      ],
      "metadata": {
        "id": "q-2-T5a9rCYQ"
      }
    },
    {
      "cell_type": "code",
      "source": [
        "def variance(list7):\n",
        "   x = standard_deviation(list7)\n",
        "   print(\"Standard deviation : \" , x)\n",
        "   v= x**2\n",
        "   return v\n",
        "\n",
        "\n",
        "\n",
        "list7=[1,2,3,4,5,6]\n",
        "var= variance(list7) \n",
        "print(\"Variance of a list : \" ,var) "
      ],
      "metadata": {
        "colab": {
          "base_uri": "https://localhost:8080/"
        },
        "id": "bxaEVBSDTsJX",
        "outputId": "d4418f22-2d62-44fc-fbb8-7a03d62d05e5"
      },
      "execution_count": null,
      "outputs": [
        {
          "output_type": "stream",
          "name": "stdout",
          "text": [
            "Mean of a list 3\n",
            "Point at a distance :  [-2, -1, 0, 1, 2, 3]\n",
            "Standard deviation :  0.5\n",
            "Variance of a list :  0.25\n"
          ]
        }
      ]
    },
    {
      "cell_type": "code",
      "source": [
        "from functools import reduce\n",
        "\n",
        "s = [12,3,4,124,5]\n",
        "f = lambda x,y: x+y\n",
        "reduce(f , s)\n",
        "\n"
      ],
      "metadata": {
        "id": "sl-dh3zBrroz",
        "colab": {
          "base_uri": "https://localhost:8080/"
        },
        "outputId": "4517ac8e-4f59-4991-f198-c1bf2a79fefa"
      },
      "execution_count": null,
      "outputs": [
        {
          "output_type": "execute_result",
          "data": {
            "text/plain": [
              "148"
            ]
          },
          "metadata": {},
          "execution_count": 3
        }
      ]
    },
    {
      "cell_type": "code",
      "source": [],
      "metadata": {
        "id": "MWgUg1IxGeQg"
      },
      "execution_count": 4,
      "outputs": []
    },
    {
      "cell_type": "code",
      "source": [],
      "metadata": {
        "id": "5dJWuCvNG4OA"
      },
      "execution_count": null,
      "outputs": []
    }
  ]
}